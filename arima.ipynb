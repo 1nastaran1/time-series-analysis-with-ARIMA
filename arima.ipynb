{
 "cells": [
  {
   "cell_type": "markdown",
   "id": "1b264d33",
   "metadata": {},
   "source": [
    "importing necessary libraries:"
   ]
  },
  {
   "cell_type": "code",
   "execution_count": 1,
   "id": "b084154e",
   "metadata": {},
   "outputs": [],
   "source": [
    "import pandas as pd\n",
    "import numpy as np\n",
    "from statsmodels.tsa.arima_model import ARIMA\n",
    "from statsmodels.tsa.stattools import adfuller\n",
    "\n",
    "import matplotlib.pyplot as plt\n",
    "from pandas.plotting import register_matplotlib_converters\n",
    "from statsmodels.graphics.tsaplots import plot_acf, plot_pacf\n",
    "register_matplotlib_converters()"
   ]
  },
  {
   "cell_type": "markdown",
   "id": "5cdbd0b4",
   "metadata": {},
   "source": [
    "we read datas with using pandas library "
   ]
  },
  {
   "cell_type": "code",
   "execution_count": 2,
   "id": "e2ae9f3f",
   "metadata": {},
   "outputs": [],
   "source": [
    "df= pd.read_csv('ARIMA_dataset_copy.csv')"
   ]
  },
  {
   "cell_type": "markdown",
   "id": "e2b1fa53",
   "metadata": {},
   "source": [
    "we delete the rows with null values for cleaning the data"
   ]
  },
  {
   "cell_type": "code",
   "execution_count": 3,
   "id": "4f11a7a4",
   "metadata": {},
   "outputs": [],
   "source": [
    "df1 = df.dropna()"
   ]
  },
  {
   "cell_type": "code",
   "execution_count": 4,
   "id": "619ba595",
   "metadata": {},
   "outputs": [],
   "source": [
    "df1=df1.copy()"
   ]
  },
  {
   "cell_type": "markdown",
   "id": "7304573f",
   "metadata": {},
   "source": [
    "we seperate the different part of the date with split function"
   ]
  },
  {
   "cell_type": "code",
   "execution_count": 5,
   "id": "2b48e684",
   "metadata": {},
   "outputs": [],
   "source": [
    "df1['time']=df1['time'].str.split().str[0]"
   ]
  },
  {
   "cell_type": "markdown",
   "id": "b91f5f28",
   "metadata": {},
   "source": [
    "we show the head of our data frame with head() function"
   ]
  },
  {
   "cell_type": "code",
   "execution_count": 6,
   "id": "af083cfc",
   "metadata": {},
   "outputs": [
    {
     "data": {
      "text/plain": [
       "0    2022-03-19\n",
       "1    2022-03-19\n",
       "2    2022-03-19\n",
       "3    2022-03-19\n",
       "4    2022-03-19\n",
       "Name: time, dtype: object"
      ]
     },
     "execution_count": 6,
     "metadata": {},
     "output_type": "execute_result"
    }
   ],
   "source": [
    "df1['time'].head()"
   ]
  },
  {
   "cell_type": "markdown",
   "id": "af6aff03",
   "metadata": {},
   "source": [
    "we change the type of 'time' column to datetime type"
   ]
  },
  {
   "cell_type": "code",
   "execution_count": 7,
   "id": "aee62f29",
   "metadata": {},
   "outputs": [],
   "source": [
    "df1['time']=pd.to_datetime(df1['time'])"
   ]
  },
  {
   "cell_type": "markdown",
   "id": "a36acd3b",
   "metadata": {},
   "source": [
    "we extract the day from date using code below and then transfer it to another column"
   ]
  },
  {
   "cell_type": "code",
   "execution_count": 8,
   "id": "02b450ca",
   "metadata": {},
   "outputs": [],
   "source": [
    "df1['day']=df1['time'].dt.day\n"
   ]
  },
  {
   "cell_type": "code",
   "execution_count": 9,
   "id": "1459970e",
   "metadata": {},
   "outputs": [
    {
     "data": {
      "text/html": [
       "<div>\n",
       "<style scoped>\n",
       "    .dataframe tbody tr th:only-of-type {\n",
       "        vertical-align: middle;\n",
       "    }\n",
       "\n",
       "    .dataframe tbody tr th {\n",
       "        vertical-align: top;\n",
       "    }\n",
       "\n",
       "    .dataframe thead th {\n",
       "        text-align: right;\n",
       "    }\n",
       "</style>\n",
       "<table border=\"1\" class=\"dataframe\">\n",
       "  <thead>\n",
       "    <tr style=\"text-align: right;\">\n",
       "      <th></th>\n",
       "      <th>time</th>\n",
       "      <th>lat</th>\n",
       "      <th>lon</th>\n",
       "      <th>dev_acc_d</th>\n",
       "      <th>day</th>\n",
       "    </tr>\n",
       "  </thead>\n",
       "  <tbody>\n",
       "    <tr>\n",
       "      <th>0</th>\n",
       "      <td>2022-03-19</td>\n",
       "      <td>35.724380</td>\n",
       "      <td>51.386521</td>\n",
       "      <td>0.00000</td>\n",
       "      <td>19</td>\n",
       "    </tr>\n",
       "    <tr>\n",
       "      <th>1</th>\n",
       "      <td>2022-03-19</td>\n",
       "      <td>35.723492</td>\n",
       "      <td>51.385984</td>\n",
       "      <td>0.00000</td>\n",
       "      <td>19</td>\n",
       "    </tr>\n",
       "    <tr>\n",
       "      <th>2</th>\n",
       "      <td>2022-03-19</td>\n",
       "      <td>35.723234</td>\n",
       "      <td>51.386712</td>\n",
       "      <td>0.07172</td>\n",
       "      <td>19</td>\n",
       "    </tr>\n",
       "    <tr>\n",
       "      <th>3</th>\n",
       "      <td>2022-03-19</td>\n",
       "      <td>35.723138</td>\n",
       "      <td>51.387657</td>\n",
       "      <td>0.15773</td>\n",
       "      <td>19</td>\n",
       "    </tr>\n",
       "    <tr>\n",
       "      <th>4</th>\n",
       "      <td>2022-03-19</td>\n",
       "      <td>35.723082</td>\n",
       "      <td>51.388778</td>\n",
       "      <td>0.25916</td>\n",
       "      <td>19</td>\n",
       "    </tr>\n",
       "  </tbody>\n",
       "</table>\n",
       "</div>"
      ],
      "text/plain": [
       "        time        lat        lon  dev_acc_d  day\n",
       "0 2022-03-19  35.724380  51.386521    0.00000   19\n",
       "1 2022-03-19  35.723492  51.385984    0.00000   19\n",
       "2 2022-03-19  35.723234  51.386712    0.07172   19\n",
       "3 2022-03-19  35.723138  51.387657    0.15773   19\n",
       "4 2022-03-19  35.723082  51.388778    0.25916   19"
      ]
     },
     "execution_count": 9,
     "metadata": {},
     "output_type": "execute_result"
    }
   ],
   "source": [
    "df1.head()"
   ]
  },
  {
   "cell_type": "markdown",
   "id": "9a2207f4",
   "metadata": {},
   "source": [
    "we delete the extra columns"
   ]
  },
  {
   "cell_type": "code",
   "execution_count": 10,
   "id": "ace66212",
   "metadata": {},
   "outputs": [
    {
     "data": {
      "text/html": [
       "<div>\n",
       "<style scoped>\n",
       "    .dataframe tbody tr th:only-of-type {\n",
       "        vertical-align: middle;\n",
       "    }\n",
       "\n",
       "    .dataframe tbody tr th {\n",
       "        vertical-align: top;\n",
       "    }\n",
       "\n",
       "    .dataframe thead th {\n",
       "        text-align: right;\n",
       "    }\n",
       "</style>\n",
       "<table border=\"1\" class=\"dataframe\">\n",
       "  <thead>\n",
       "    <tr style=\"text-align: right;\">\n",
       "      <th></th>\n",
       "      <th>time</th>\n",
       "      <th>dev_acc_d</th>\n",
       "      <th>day</th>\n",
       "    </tr>\n",
       "  </thead>\n",
       "  <tbody>\n",
       "    <tr>\n",
       "      <th>0</th>\n",
       "      <td>2022-03-19</td>\n",
       "      <td>0.00000</td>\n",
       "      <td>19</td>\n",
       "    </tr>\n",
       "    <tr>\n",
       "      <th>1</th>\n",
       "      <td>2022-03-19</td>\n",
       "      <td>0.00000</td>\n",
       "      <td>19</td>\n",
       "    </tr>\n",
       "    <tr>\n",
       "      <th>2</th>\n",
       "      <td>2022-03-19</td>\n",
       "      <td>0.07172</td>\n",
       "      <td>19</td>\n",
       "    </tr>\n",
       "    <tr>\n",
       "      <th>3</th>\n",
       "      <td>2022-03-19</td>\n",
       "      <td>0.15773</td>\n",
       "      <td>19</td>\n",
       "    </tr>\n",
       "    <tr>\n",
       "      <th>4</th>\n",
       "      <td>2022-03-19</td>\n",
       "      <td>0.25916</td>\n",
       "      <td>19</td>\n",
       "    </tr>\n",
       "    <tr>\n",
       "      <th>...</th>\n",
       "      <td>...</td>\n",
       "      <td>...</td>\n",
       "      <td>...</td>\n",
       "    </tr>\n",
       "    <tr>\n",
       "      <th>47086</th>\n",
       "      <td>2022-03-31</td>\n",
       "      <td>3428.64584</td>\n",
       "      <td>31</td>\n",
       "    </tr>\n",
       "    <tr>\n",
       "      <th>47087</th>\n",
       "      <td>2022-03-31</td>\n",
       "      <td>3428.64647</td>\n",
       "      <td>31</td>\n",
       "    </tr>\n",
       "    <tr>\n",
       "      <th>47088</th>\n",
       "      <td>2022-03-31</td>\n",
       "      <td>3428.64651</td>\n",
       "      <td>31</td>\n",
       "    </tr>\n",
       "    <tr>\n",
       "      <th>47089</th>\n",
       "      <td>2022-03-31</td>\n",
       "      <td>3428.65571</td>\n",
       "      <td>31</td>\n",
       "    </tr>\n",
       "    <tr>\n",
       "      <th>47090</th>\n",
       "      <td>2022-03-31</td>\n",
       "      <td>3428.65732</td>\n",
       "      <td>31</td>\n",
       "    </tr>\n",
       "  </tbody>\n",
       "</table>\n",
       "<p>45527 rows × 3 columns</p>\n",
       "</div>"
      ],
      "text/plain": [
       "            time   dev_acc_d  day\n",
       "0     2022-03-19     0.00000   19\n",
       "1     2022-03-19     0.00000   19\n",
       "2     2022-03-19     0.07172   19\n",
       "3     2022-03-19     0.15773   19\n",
       "4     2022-03-19     0.25916   19\n",
       "...          ...         ...  ...\n",
       "47086 2022-03-31  3428.64584   31\n",
       "47087 2022-03-31  3428.64647   31\n",
       "47088 2022-03-31  3428.64651   31\n",
       "47089 2022-03-31  3428.65571   31\n",
       "47090 2022-03-31  3428.65732   31\n",
       "\n",
       "[45527 rows x 3 columns]"
      ]
     },
     "execution_count": 10,
     "metadata": {},
     "output_type": "execute_result"
    }
   ],
   "source": [
    "df1.drop(['lat','lon'] ,axis=1 )"
   ]
  },
  {
   "cell_type": "markdown",
   "id": "dc93f628",
   "metadata": {},
   "source": [
    "Through the following code, we first take the difference of each row with the previous row and put it in a new column.\n",
    "Of course, because the wrong value is obtained for the first line, we put the value of the original row instead of the first line using the fillna() function.This makes the distance no longer cumulative and each line represents the distance traveled in the new time."
   ]
  },
  {
   "cell_type": "code",
   "execution_count": 11,
   "id": "72ef8d3b",
   "metadata": {},
   "outputs": [],
   "source": [
    "df1['distance']=df1.dev_acc_d.diff().fillna(df1.dev_acc_d)"
   ]
  },
  {
   "cell_type": "markdown",
   "id": "73e20169",
   "metadata": {},
   "source": [
    "Using the following command, we first group the rows by day, and then calculate the sum of each group. By doing this, we get the total distance traveled in each day."
   ]
  },
  {
   "cell_type": "code",
   "execution_count": 12,
   "id": "0605d540",
   "metadata": {},
   "outputs": [
    {
     "data": {
      "text/plain": [
       "day\n",
       "19     25.18467\n",
       "20    401.24335\n",
       "21    401.24449\n",
       "22    325.35858\n",
       "23    202.00294\n",
       "24    552.44416\n",
       "26    297.04221\n",
       "29    300.80688\n",
       "30    922.06074\n",
       "31      1.26930\n",
       "Name: distance, dtype: float64"
      ]
     },
     "execution_count": 12,
     "metadata": {},
     "output_type": "execute_result"
    }
   ],
   "source": [
    "df1.groupby(by='day')['distance'].sum()"
   ]
  },
  {
   "cell_type": "markdown",
   "id": "72db352d",
   "metadata": {},
   "source": [
    "Days 25, 27, and 28 are missed. To determine a value for them, we take an average from the rest of the distances."
   ]
  },
  {
   "cell_type": "code",
   "execution_count": 13,
   "id": "87875827",
   "metadata": {},
   "outputs": [
    {
     "data": {
      "text/plain": [
       "342.865732"
      ]
     },
     "execution_count": 13,
     "metadata": {},
     "output_type": "execute_result"
    }
   ],
   "source": [
    "df1.groupby(by='day')['distance'].sum().mean()"
   ]
  },
  {
   "cell_type": "markdown",
   "id": "cdf91dcf",
   "metadata": {},
   "source": [
    "we put new datas into a new dataframe"
   ]
  },
  {
   "cell_type": "code",
   "execution_count": 14,
   "id": "55ee2ce4",
   "metadata": {},
   "outputs": [
    {
     "data": {
      "text/html": [
       "<div>\n",
       "<style scoped>\n",
       "    .dataframe tbody tr th:only-of-type {\n",
       "        vertical-align: middle;\n",
       "    }\n",
       "\n",
       "    .dataframe tbody tr th {\n",
       "        vertical-align: top;\n",
       "    }\n",
       "\n",
       "    .dataframe thead th {\n",
       "        text-align: right;\n",
       "    }\n",
       "</style>\n",
       "<table border=\"1\" class=\"dataframe\">\n",
       "  <thead>\n",
       "    <tr style=\"text-align: right;\">\n",
       "      <th></th>\n",
       "      <th>day</th>\n",
       "      <th>distance</th>\n",
       "    </tr>\n",
       "  </thead>\n",
       "  <tbody>\n",
       "    <tr>\n",
       "      <th>8</th>\n",
       "      <td>27</td>\n",
       "      <td>342.865732</td>\n",
       "    </tr>\n",
       "    <tr>\n",
       "      <th>9</th>\n",
       "      <td>28</td>\n",
       "      <td>342.865732</td>\n",
       "    </tr>\n",
       "    <tr>\n",
       "      <th>10</th>\n",
       "      <td>29</td>\n",
       "      <td>300.806880</td>\n",
       "    </tr>\n",
       "    <tr>\n",
       "      <th>11</th>\n",
       "      <td>30</td>\n",
       "      <td>922.060740</td>\n",
       "    </tr>\n",
       "    <tr>\n",
       "      <th>12</th>\n",
       "      <td>31</td>\n",
       "      <td>1.269300</td>\n",
       "    </tr>\n",
       "  </tbody>\n",
       "</table>\n",
       "</div>"
      ],
      "text/plain": [
       "   day    distance\n",
       "8   27  342.865732\n",
       "9   28  342.865732\n",
       "10  29  300.806880\n",
       "11  30  922.060740\n",
       "12  31    1.269300"
      ]
     },
     "execution_count": 14,
     "metadata": {},
     "output_type": "execute_result"
    }
   ],
   "source": [
    "lst1=['19','20','21','22','23','24','25','26','27','28' , '29','30' , '31']\n",
    "lst2=[25.18467 ,401.24335, 401.24449 , 325.35858 , 202.00294 , 552.44416 , 342.865732,297.04221\n",
    "     ,342.865732 , 342.865732 , 300.80688 , 922.06074 ,1.26930]\n",
    "df2 = pd.DataFrame(list(zip(lst1, lst2)), columns =['day', 'distance'])\n",
    "df2.tail()"
   ]
  },
  {
   "cell_type": "markdown",
   "id": "78a55c5d",
   "metadata": {},
   "source": [
    "we need to check the stationary ,so we use the code below .if p value is less than 0.05 we dont need to \n",
    "calculate first difference of our data but if p value is more than 0.05 it indicates that we need to make our data stationary\n",
    "\n"
   ]
  },
  {
   "cell_type": "code",
   "execution_count": 15,
   "id": "b425da6a",
   "metadata": {},
   "outputs": [
    {
     "name": "stdout",
     "output_type": "stream",
     "text": [
      "Observations of Dickey-fuller test\n",
      "Test Statistic                -5.709804e+00\n",
      "p-value                        7.344220e-07\n",
      "#lags used                     0.000000e+00\n",
      "number of observations used    1.200000e+01\n",
      "critical value (1%)           -4.137829e+00\n",
      "critical value (5%)           -3.154972e+00\n",
      "critical value (10%)          -2.714477e+00\n",
      "dtype: float64\n"
     ]
    }
   ],
   "source": [
    "print(\"Observations of Dickey-fuller test\")\n",
    "dftest = adfuller(df2['distance'],autolag='AIC')\n",
    "dfoutput=pd.Series(dftest[0:4],index=['Test Statistic','p-value','#lags used','number of observations used'])\n",
    "for key,value in dftest[4].items():\n",
    "    dfoutput['critical value (%s)'%key]= value\n",
    "print(dfoutput)"
   ]
  },
  {
   "cell_type": "markdown",
   "id": "0666583e",
   "metadata": {},
   "source": [
    " we see the p value is more than 0.05 so we set d value to 1\n",
    " so we get first difference of datas\n"
   ]
  },
  {
   "cell_type": "code",
   "execution_count": 16,
   "id": "b565ffe2",
   "metadata": {},
   "outputs": [],
   "source": [
    " distance2 = df2.distance.diff().fillna(df2.distance)\n"
   ]
  },
  {
   "cell_type": "code",
   "execution_count": 17,
   "id": "a10bf50a",
   "metadata": {},
   "outputs": [
    {
     "name": "stdout",
     "output_type": "stream",
     "text": [
      "Observations of Dickey-fuller test\n",
      "Test Statistic                 -3.631315\n",
      "p-value                         0.005190\n",
      "#lags used                      1.000000\n",
      "number of observations used    11.000000\n",
      "critical value (1%)            -4.223238\n",
      "critical value (5%)            -3.189369\n",
      "critical value (10%)           -2.729839\n",
      "dtype: float64\n"
     ]
    }
   ],
   "source": [
    "print(\"Observations of Dickey-fuller test\")\n",
    "dftest1 = adfuller(distance2,autolag='AIC')\n",
    "dfoutput=pd.Series(dftest1[0:4],index=['Test Statistic','p-value','#lags used','number of observations used'])\n",
    "for key,value in dftest1[4].items():\n",
    "    dfoutput['critical value (%s)'%key]= value\n",
    "print(dfoutput)"
   ]
  },
  {
   "cell_type": "markdown",
   "id": "ce535e26",
   "metadata": {},
   "source": [
    "we conclude that d value should be 1 in order to have the p value less than 0.05\n"
   ]
  },
  {
   "cell_type": "markdown",
   "id": "750fb06e",
   "metadata": {},
   "source": [
    "plotting the dataframe"
   ]
  },
  {
   "cell_type": "code",
   "execution_count": 18,
   "id": "d89a64d0",
   "metadata": {},
   "outputs": [
    {
     "data": {
      "text/plain": [
       "<AxesSubplot:>"
      ]
     },
     "execution_count": 18,
     "metadata": {},
     "output_type": "execute_result"
    },
    {
     "data": {
      "image/png": "[encoded data removed]",
      "text/plain": [
       "<Figure size 432x288 with 1 Axes>"
      ]
     },
     "metadata": {
      "needs_background": "light"
     },
     "output_type": "display_data"
    }
   ],
   "source": [
    "df2.plot()"
   ]
  },
  {
   "cell_type": "markdown",
   "id": "c0439920",
   "metadata": {},
   "source": [
    "The parameters of the ARIMA model are defined as follows:\n",
    "\n",
    "p is the number of autoregressive terms,\n",
    "d is the number of nonseasonal differences needed for stationarity, and\n",
    "q is the number of lagged forecast errors in the prediction equation.\n",
    "\n",
    "To determine the parameters of Arima\n",
    "I gave different values to the parameter values to get approximate values\n",
    "The closer and similar the graph obtained through Arima is to the graph of our data, the more appropriate those values are.."
   ]
  },
  {
   "cell_type": "code",
   "execution_count": 19,
   "id": "77a802c3",
   "metadata": {},
   "outputs": [
    {
     "name": "stderr",
     "output_type": "stream",
     "text": [
      "C:\\Users\\ASUS\\anaconda3\\lib\\site-packages\\statsmodels\\tsa\\arima_model.py:472: FutureWarning: \n",
      "statsmodels.tsa.arima_model.ARMA and statsmodels.tsa.arima_model.ARIMA have\n",
      "been deprecated in favor of statsmodels.tsa.arima.model.ARIMA (note the .\n",
      "between arima and model) and\n",
      "statsmodels.tsa.SARIMAX. These will be removed after the 0.12 release.\n",
      "\n",
      "statsmodels.tsa.arima.model.ARIMA makes use of the statespace framework and\n",
      "is both well tested and maintained.\n",
      "\n",
      "To silence this warning and continue using ARMA and ARIMA until they are\n",
      "removed, use:\n",
      "\n",
      "import warnings\n",
      "warnings.filterwarnings('ignore', 'statsmodels.tsa.arima_model.ARMA',\n",
      "                        FutureWarning)\n",
      "warnings.filterwarnings('ignore', 'statsmodels.tsa.arima_model.ARIMA',\n",
      "                        FutureWarning)\n",
      "\n",
      "  warnings.warn(ARIMA_DEPRECATION_WARN, FutureWarning)\n"
     ]
    },
    {
     "data": {
      "image/png": "[encoded data removed]",
      "text/plain": [
       "<Figure size 432x288 with 1 Axes>"
      ]
     },
     "metadata": {
      "needs_background": "light"
     },
     "output_type": "display_data"
    }
   ],
   "source": [
    "model = ARIMA(df2.distance, order = (0,0,0))\n",
    "model_fit = model.fit(disp=0)\n",
    "model_fit.plot_predict(dynamic=False)\n",
    "plt.show()\n"
   ]
  },
  {
   "cell_type": "code",
   "execution_count": 20,
   "id": "988985d3",
   "metadata": {},
   "outputs": [
    {
     "name": "stderr",
     "output_type": "stream",
     "text": [
      "C:\\Users\\ASUS\\anaconda3\\lib\\site-packages\\statsmodels\\tsa\\arima_model.py:472: FutureWarning: \n",
      "statsmodels.tsa.arima_model.ARMA and statsmodels.tsa.arima_model.ARIMA have\n",
      "been deprecated in favor of statsmodels.tsa.arima.model.ARIMA (note the .\n",
      "between arima and model) and\n",
      "statsmodels.tsa.SARIMAX. These will be removed after the 0.12 release.\n",
      "\n",
      "statsmodels.tsa.arima.model.ARIMA makes use of the statespace framework and\n",
      "is both well tested and maintained.\n",
      "\n",
      "To silence this warning and continue using ARMA and ARIMA until they are\n",
      "removed, use:\n",
      "\n",
      "import warnings\n",
      "warnings.filterwarnings('ignore', 'statsmodels.tsa.arima_model.ARMA',\n",
      "                        FutureWarning)\n",
      "warnings.filterwarnings('ignore', 'statsmodels.tsa.arima_model.ARIMA',\n",
      "                        FutureWarning)\n",
      "\n",
      "  warnings.warn(ARIMA_DEPRECATION_WARN, FutureWarning)\n"
     ]
    },
    {
     "data": {
      "image/png": "[encoded data removed]",
      "text/plain": [
       "<Figure size 432x288 with 1 Axes>"
      ]
     },
     "metadata": {
      "needs_background": "light"
     },
     "output_type": "display_data"
    }
   ],
   "source": [
    "model = ARIMA(df2.distance, order = (0,0,1))\n",
    "model_fit = model.fit(disp=0)\n",
    "model_fit.plot_predict(dynamic=False)\n",
    "plt.show()"
   ]
  },
  {
   "cell_type": "code",
   "execution_count": 21,
   "id": "adb1e152",
   "metadata": {},
   "outputs": [
    {
     "name": "stderr",
     "output_type": "stream",
     "text": [
      "C:\\Users\\ASUS\\anaconda3\\lib\\site-packages\\statsmodels\\tsa\\arima_model.py:472: FutureWarning: \n",
      "statsmodels.tsa.arima_model.ARMA and statsmodels.tsa.arima_model.ARIMA have\n",
      "been deprecated in favor of statsmodels.tsa.arima.model.ARIMA (note the .\n",
      "between arima and model) and\n",
      "statsmodels.tsa.SARIMAX. These will be removed after the 0.12 release.\n",
      "\n",
      "statsmodels.tsa.arima.model.ARIMA makes use of the statespace framework and\n",
      "is both well tested and maintained.\n",
      "\n",
      "To silence this warning and continue using ARMA and ARIMA until they are\n",
      "removed, use:\n",
      "\n",
      "import warnings\n",
      "warnings.filterwarnings('ignore', 'statsmodels.tsa.arima_model.ARMA',\n",
      "                        FutureWarning)\n",
      "warnings.filterwarnings('ignore', 'statsmodels.tsa.arima_model.ARIMA',\n",
      "                        FutureWarning)\n",
      "\n",
      "  warnings.warn(ARIMA_DEPRECATION_WARN, FutureWarning)\n"
     ]
    },
    {
     "data": {
      "image/png": "[encoded data removed]",
      "text/plain": [
       "<Figure size 432x288 with 1 Axes>"
      ]
     },
     "metadata": {
      "needs_background": "light"
     },
     "output_type": "display_data"
    }
   ],
   "source": [
    "model = ARIMA(df2.distance, order = (1,0,0))\n",
    "model_fit = model.fit(disp=0)\n",
    "model_fit.plot_predict(dynamic=False)\n",
    "plt.show()"
   ]
  },
  {
   "cell_type": "code",
   "execution_count": 22,
   "id": "6edc20fe",
   "metadata": {},
   "outputs": [
    {
     "name": "stderr",
     "output_type": "stream",
     "text": [
      "C:\\Users\\ASUS\\anaconda3\\lib\\site-packages\\statsmodels\\tsa\\arima_model.py:472: FutureWarning: \n",
      "statsmodels.tsa.arima_model.ARMA and statsmodels.tsa.arima_model.ARIMA have\n",
      "been deprecated in favor of statsmodels.tsa.arima.model.ARIMA (note the .\n",
      "between arima and model) and\n",
      "statsmodels.tsa.SARIMAX. These will be removed after the 0.12 release.\n",
      "\n",
      "statsmodels.tsa.arima.model.ARIMA makes use of the statespace framework and\n",
      "is both well tested and maintained.\n",
      "\n",
      "To silence this warning and continue using ARMA and ARIMA until they are\n",
      "removed, use:\n",
      "\n",
      "import warnings\n",
      "warnings.filterwarnings('ignore', 'statsmodels.tsa.arima_model.ARMA',\n",
      "                        FutureWarning)\n",
      "warnings.filterwarnings('ignore', 'statsmodels.tsa.arima_model.ARIMA',\n",
      "                        FutureWarning)\n",
      "\n",
      "  warnings.warn(ARIMA_DEPRECATION_WARN, FutureWarning)\n"
     ]
    },
    {
     "data": {
      "image/png": "[encoded data removed]",
      "text/plain": [
       "<Figure size 432x288 with 1 Axes>"
      ]
     },
     "metadata": {
      "needs_background": "light"
     },
     "output_type": "display_data"
    }
   ],
   "source": [
    "model = ARIMA(df2.distance, order = (1,1,0))\n",
    "model_fit = model.fit(disp=0)\n",
    "model_fit.plot_predict(dynamic=False)\n",
    "plt.show()"
   ]
  },
  {
   "cell_type": "code",
   "execution_count": 23,
   "id": "1436fec0",
   "metadata": {},
   "outputs": [
    {
     "name": "stderr",
     "output_type": "stream",
     "text": [
      "C:\\Users\\ASUS\\anaconda3\\lib\\site-packages\\statsmodels\\tsa\\arima_model.py:472: FutureWarning: \n",
      "statsmodels.tsa.arima_model.ARMA and statsmodels.tsa.arima_model.ARIMA have\n",
      "been deprecated in favor of statsmodels.tsa.arima.model.ARIMA (note the .\n",
      "between arima and model) and\n",
      "statsmodels.tsa.SARIMAX. These will be removed after the 0.12 release.\n",
      "\n",
      "statsmodels.tsa.arima.model.ARIMA makes use of the statespace framework and\n",
      "is both well tested and maintained.\n",
      "\n",
      "To silence this warning and continue using ARMA and ARIMA until they are\n",
      "removed, use:\n",
      "\n",
      "import warnings\n",
      "warnings.filterwarnings('ignore', 'statsmodels.tsa.arima_model.ARMA',\n",
      "                        FutureWarning)\n",
      "warnings.filterwarnings('ignore', 'statsmodels.tsa.arima_model.ARIMA',\n",
      "                        FutureWarning)\n",
      "\n",
      "  warnings.warn(ARIMA_DEPRECATION_WARN, FutureWarning)\n"
     ]
    },
    {
     "data": {
      "image/png": "[encoded data removed]",
      "text/plain": [
       "<Figure size 432x288 with 1 Axes>"
      ]
     },
     "metadata": {
      "needs_background": "light"
     },
     "output_type": "display_data"
    }
   ],
   "source": [
    "model = ARIMA(df2.distance, order = (0,1,0))\n",
    "model_fit = model.fit(disp=0)\n",
    "model_fit.plot_predict(dynamic=False)\n",
    "plt.show()"
   ]
  },
  {
   "cell_type": "markdown",
   "id": "4c6aeb16",
   "metadata": {},
   "source": [
    "In the last graph with the given values, the graph predicted by Arima is closer to the graph of our data."
   ]
  },
  {
   "cell_type": "markdown",
   "id": "086463d0",
   "metadata": {},
   "source": [
    "now we can take these parameters from acf and pacf .\n",
    "the number of lags that are out of the blue range is the value of p and q parameters except the first lag  because it is the correlation of the first data with itself.\n",
    "\n",
    "in addition, acf give us the q value and pacf give us the p value\n"
   ]
  },
  {
   "cell_type": "code",
   "execution_count": 24,
   "id": "990110de",
   "metadata": {},
   "outputs": [
    {
     "data": {
      "image/png": "[encoded data removed]",
      "text/plain": [
       "<Figure size 432x288 with 1 Axes>"
      ]
     },
     "metadata": {
      "needs_background": "light"
     },
     "output_type": "display_data"
    }
   ],
   "source": [
    "acf_plot = plot_acf(df2.distance )"
   ]
  },
  {
   "cell_type": "code",
   "execution_count": 25,
   "id": "37b6c929",
   "metadata": {},
   "outputs": [
    {
     "data": {
      "image/png": "[encoded data removed]",
      "text/plain": [
       "<Figure size 432x288 with 1 Axes>"
      ]
     },
     "metadata": {
      "needs_background": "light"
     },
     "output_type": "display_data"
    }
   ],
   "source": [
    "pacf_plot = plot_pacf(df2.distance , lags=5)"
   ]
  },
  {
   "cell_type": "markdown",
   "id": "0c81cc16",
   "metadata": {},
   "source": [
    "according to both acf and pacf value of p and q are 0."
   ]
  },
  {
   "cell_type": "markdown",
   "id": "3178de4d",
   "metadata": {},
   "source": [
    "we send the parameters to arima method to fit the model"
   ]
  },
  {
   "cell_type": "code",
   "execution_count": 26,
   "id": "c4c3d6e4",
   "metadata": {
    "scrolled": true
   },
   "outputs": [
    {
     "name": "stderr",
     "output_type": "stream",
     "text": [
      "C:\\Users\\ASUS\\anaconda3\\lib\\site-packages\\statsmodels\\tsa\\arima_model.py:472: FutureWarning: \n",
      "statsmodels.tsa.arima_model.ARMA and statsmodels.tsa.arima_model.ARIMA have\n",
      "been deprecated in favor of statsmodels.tsa.arima.model.ARIMA (note the .\n",
      "between arima and model) and\n",
      "statsmodels.tsa.SARIMAX. These will be removed after the 0.12 release.\n",
      "\n",
      "statsmodels.tsa.arima.model.ARIMA makes use of the statespace framework and\n",
      "is both well tested and maintained.\n",
      "\n",
      "To silence this warning and continue using ARMA and ARIMA until they are\n",
      "removed, use:\n",
      "\n",
      "import warnings\n",
      "warnings.filterwarnings('ignore', 'statsmodels.tsa.arima_model.ARMA',\n",
      "                        FutureWarning)\n",
      "warnings.filterwarnings('ignore', 'statsmodels.tsa.arima_model.ARIMA',\n",
      "                        FutureWarning)\n",
      "\n",
      "  warnings.warn(ARIMA_DEPRECATION_WARN, FutureWarning)\n"
     ]
    },
    {
     "data": {
      "image/png": "[encoded data removed]",
      "text/plain": [
       "<Figure size 432x288 with 1 Axes>"
      ]
     },
     "metadata": {
      "needs_background": "light"
     },
     "output_type": "display_data"
    }
   ],
   "source": [
    "model = ARIMA(df2.distance, order = (0,1,0))\n",
    "model_fit = model.fit(disp=0)\n",
    "model_fit.plot_predict(dynamic=False)\n",
    "plt.show()"
   ]
  },
  {
   "cell_type": "markdown",
   "id": "3b966b56",
   "metadata": {},
   "source": [
    " Forecasting five steps starting after the 13th observation in series\n"
   ]
  },
  {
   "cell_type": "code",
   "execution_count": 27,
   "id": "fba698f7",
   "metadata": {
    "scrolled": true
   },
   "outputs": [
    {
     "name": "stdout",
     "output_type": "stream",
     "text": [
      "(array([-0.7236475, -2.716595 , -4.7095425, -6.70249  , -8.6954375]), array([361.57775697, 511.34816776, 626.27104596, 723.15551395,\n",
      "       808.51244374]), array([[ -709.40302878,   707.95573378],\n",
      "       [-1004.94058738,   999.50739738],\n",
      "       [-1232.17823715,  1222.75915215],\n",
      "       [-1424.06125256,  1410.65627256],\n",
      "       [-1593.35070829,  1575.95983329]]))\n"
     ]
    }
   ],
   "source": [
    "model_fit.predict()\n",
    "print(model_fit.forecast(5))\n"
   ]
  },
  {
   "cell_type": "markdown",
   "id": "e0bb7f51",
   "metadata": {},
   "source": [
    "we see that arima predict five distances in future as 361.5777,511.3481 , 626.2710 , ...."
   ]
  },
  {
   "cell_type": "markdown",
   "id": "e4242490",
   "metadata": {},
   "source": [
    "The “AR” in ARIMA stands for autoregression, indicating that the model uses the dependent relationship between current data and its past values. In other words, it shows that the data is regressed on its past values.i proved from pacf that p parameter is better to be 0 . p=0\n",
    "\n",
    "The “I” stands for integrated, which means that the data is stationary. Stationary data refers to time-series data that’s been made “stationary” by subtracting the observations from the previous values. i proved that our data only needs first order differencing to become stationary. d=1\n",
    "\n",
    "The “MA” stands for moving average model, indicating that the forecast or outcome of the model depends linearly on the past values. Also, it means that the errors in forecasting are linear functions of past errors. i proved from acf that q value should be 0."
   ]
  }
 ],
 "metadata": {
  "kernelspec": {
   "display_name": "Python 3",
   "language": "python",
   "name": "python3"
  },
  "language_info": {
   "codemirror_mode": {
    "name": "ipython",
    "version": 3
   },
   "file_extension": ".py",
   "mimetype": "text/x-python",
   "name": "python",
   "nbconvert_exporter": "python",
   "pygments_lexer": "ipython3",
   "version": "3.8.8"
  }
 },
 "nbformat": 4,
 "nbformat_minor": 5
}
